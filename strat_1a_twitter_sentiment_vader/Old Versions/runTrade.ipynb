{
 "cells": [
  {
   "cell_type": "code",
   "execution_count": 36,
   "id": "8d56b788-3353-43de-a569-60f12195a737",
   "metadata": {},
   "outputs": [],
   "source": [
    "import yfinance as yf\n",
    "import pandas as pd\n",
    "from datetime import datetime"
   ]
  },
  {
   "cell_type": "code",
   "execution_count": 29,
   "id": "b675df6b-0262-4021-9197-1e63a84e77ba",
   "metadata": {},
   "outputs": [],
   "source": [
    "market_open = datetime.strptime('07:30', '%H:%M').time()\n",
    "market_close = datetime.strptime('14:50', '%H:%M').time()\n",
    "timing_check = 1"
   ]
  },
  {
   "cell_type": "code",
   "execution_count": 37,
   "id": "248f0e8f-d3db-43b6-b761-b84a76ee2362",
   "metadata": {},
   "outputs": [],
   "source": [
    "ticker = yf.Ticker(\"MSFT\")"
   ]
  },
  {
   "cell_type": "code",
   "execution_count": 38,
   "id": "9f5aa517-06e0-42a7-9e84-f6470804b03d",
   "metadata": {},
   "outputs": [
    {
     "data": {
      "text/plain": [
       "266.82"
      ]
     },
     "execution_count": 38,
     "metadata": {},
     "output_type": "execute_result"
    }
   ],
   "source": [
    "ticker.info['currentPrice']"
   ]
  },
  {
   "cell_type": "code",
   "execution_count": 74,
   "id": "b5b2f725-d4cd-45c8-89e8-c7d7272a2ede",
   "metadata": {},
   "outputs": [],
   "source": [
    "ticker_w_sentiment = pd.read_csv('ticker_w_sentiment.csv').sort_values(by = ['pos_rev'], ascending = False, ignore_index = True)"
   ]
  },
  {
   "cell_type": "code",
   "execution_count": null,
   "id": "39352bf8-23e2-4fec-88a8-2fdeb33e2ccf",
   "metadata": {},
   "outputs": [],
   "source": []
  },
  {
   "cell_type": "code",
   "execution_count": 75,
   "id": "904ab7a5-1fed-4c83-ae8b-04f61dc65e59",
   "metadata": {},
   "outputs": [
    {
     "data": {
      "text/plain": [
       "'BMO'"
      ]
     },
     "execution_count": 75,
     "metadata": {},
     "output_type": "execute_result"
    }
   ],
   "source": [
    "sorted_list['ticker'][0]"
   ]
  },
  {
   "cell_type": "code",
   "execution_count": 72,
   "id": "27c32fb6-7290-4740-89f5-75fd331ad697",
   "metadata": {},
   "outputs": [],
   "source": [
    "ticker = yf.Ticker(sorted_list['ticker'][0])"
   ]
  },
  {
   "cell_type": "code",
   "execution_count": 73,
   "id": "ed200140-12ad-431f-9594-0b5abee964d5",
   "metadata": {},
   "outputs": [
    {
     "data": {
      "text/plain": [
       "105.43"
      ]
     },
     "execution_count": 73,
     "metadata": {},
     "output_type": "execute_result"
    }
   ],
   "source": [
    "ticker.info['currentPrice']"
   ]
  },
  {
   "cell_type": "code",
   "execution_count": 79,
   "id": "df445046-09ee-4f59-8b8b-c191f260b63f",
   "metadata": {},
   "outputs": [
    {
     "name": "stdout",
     "output_type": "stream",
     "text": [
      "105.43\n",
      "24.8\n",
      "5.78\n"
     ]
    }
   ],
   "source": [
    "for i in range(0,3):\n",
    "    ticker = yf.Ticker(sorted_list['ticker'][i]).info['currentPrice']\n",
    "    print(ticker)"
   ]
  },
  {
   "cell_type": "code",
   "execution_count": null,
   "id": "bcc26031-90a5-4840-a435-a9b9c7545325",
   "metadata": {},
   "outputs": [],
   "source": []
  }
 ],
 "metadata": {
  "kernelspec": {
   "display_name": "Python 3 (ipykernel)",
   "language": "python",
   "name": "python3"
  },
  "language_info": {
   "codemirror_mode": {
    "name": "ipython",
    "version": 3
   },
   "file_extension": ".py",
   "mimetype": "text/x-python",
   "name": "python",
   "nbconvert_exporter": "python",
   "pygments_lexer": "ipython3",
   "version": "3.8.8"
  }
 },
 "nbformat": 4,
 "nbformat_minor": 5
}
