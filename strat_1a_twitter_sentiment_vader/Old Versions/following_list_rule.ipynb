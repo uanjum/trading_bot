{
 "cells": [
  {
   "cell_type": "code",
   "execution_count": 1,
   "id": "8d57aeaf-03ba-422a-8e6b-f4bd4c9aade3",
   "metadata": {},
   "outputs": [],
   "source": [
    "import tweepy\n",
    "import requests\n",
    "import pandas as pd"
   ]
  },
  {
   "cell_type": "code",
   "execution_count": 2,
   "id": "23bebd4d-4a92-41bb-9909-6e02849a2b56",
   "metadata": {},
   "outputs": [],
   "source": [
    "api_key = 'zWaNUX1I6U20jOCleQAnyIDNR'\n",
    "api_secret_key = 'KzsyWklCMxZSuqeacidcVUUEJXt9DT1eflhqpyqvDpHDEZMCyi'\n",
    "bearer_token = 'AAAAAAAAAAAAAAAAAAAAAGGybAEAAAAA8cTwz7IZgDFp0lRrikv5tWQmEKg%3D9LWClxu4RzHMw6fxIeJ88EhdQD8IR6LHohZIaKjIOtslYE7moI'\n",
    "\n",
    "access_token = '1503895260006522886-yOb38ag0H2gVise89R6m8tF5PIh0oR'\n",
    "access_secret_token = 'oJ4P3VIQqgXi823aRkJXAbzbF7qLzNzQ9jYbEEg2sFfm3'\n",
    "\n",
    "bearer_token = 'AAAAAAAAAAAAAAAAAAAAAGGybAEAAAAA8cTwz7IZgDFp0lRrikv5tWQmEKg%3D9LWClxu4RzHMw6fxIeJ88EhdQD8IR6LHohZIaKjIOtslYE7moI'\n",
    "auth = tweepy.OAuth1UserHandler(api_key, api_secret_key, access_token, access_secret_token)"
   ]
  },
  {
   "cell_type": "code",
   "execution_count": 3,
   "id": "7e6dc93f-66da-4d89-ace5-b82144ba0181",
   "metadata": {},
   "outputs": [],
   "source": [
    "client = tweepy.Client(bearer_token, consumer_key=api_key, consumer_secret=api_secret_key, access_token=access_token, access_token_secret=access_secret_token, return_type=dict)"
   ]
  },
  {
   "cell_type": "code",
   "execution_count": 4,
   "id": "f8855b45-a70b-4e4e-8b9a-de07b0d5771d",
   "metadata": {},
   "outputs": [
    {
     "data": {
      "text/plain": [
       "{'data': [{'id': '2344420430',\n",
       "   'name': 'Insider Alerts',\n",
       "   'username': 'InsiderAlerts4U'},\n",
       "  {'id': '410318537', 'name': 'Rɪᴘᴘʏ🔻🔺️', 'username': 'StocksThatRips'},\n",
       "  {'id': '1175556769990500352', 'name': 'Uzair', 'username': 'uzaiiranjum'},\n",
       "  {'id': '1494359117527457796',\n",
       "   'name': 'Stock Trades Made by U.S. Lawmakers',\n",
       "   'username': 'lawmakertrades'},\n",
       "  {'id': '1133941580866498560',\n",
       "   'name': 'Dr_Silberschmelzer',\n",
       "   'username': 'silberschmelzer'},\n",
       "  {'id': '1144815438423121921',\n",
       "   'name': 'Silbergleit Junior',\n",
       "   'username': 'SilbergleitJr'},\n",
       "  {'id': '1293404946834972673',\n",
       "   'name': 'StockFlipp™️',\n",
       "   'username': 'stockflipp'},\n",
       "  {'id': '1310326298527571971',\n",
       "   'name': 'Albertrays',\n",
       "   'username': 'Albert_trades'},\n",
       "  {'id': '48943324', 'name': 'BW Capital', 'username': 'BWcapital_'},\n",
       "  {'id': '1054561163843751936', 'name': 'Ripster', 'username': 'ripster47'},\n",
       "  {'id': '888225282334871553', 'name': 'PJ Matlock', 'username': 'PJ_Matlock'},\n",
       "  {'id': '373620043', 'name': 'Zack Morris', 'username': 'MrZackMorris'},\n",
       "  {'id': '1213885096756834305',\n",
       "   'name': 'JessiesPennies',\n",
       "   'username': 'JessiesPennies'},\n",
       "  {'id': '1266836687323303936', 'name': 'Alex', 'username': 'Alexs_trades'},\n",
       "  {'id': '973311619769028609', 'name': 'DOpeTrades', 'username': 'D0peTrades'},\n",
       "  {'id': '23699022', 'name': 'Damon Pavlatos', 'username': 'DamonPavlatos'},\n",
       "  {'id': '23340242', 'name': 'Linda Raschke', 'username': 'LindaRaschke'},\n",
       "  {'id': '455824771', 'name': 'Scott Redler', 'username': 'RedDogT3'},\n",
       "  {'id': '1007989022478819328', 'name': 'OTC BACKK', 'username': 'LadeBackk'},\n",
       "  {'id': '18433619', 'name': 'buysellshort.net', 'username': 'buysellshort'},\n",
       "  {'id': '1200616796295847936',\n",
       "   'name': 'unusual_whales',\n",
       "   'username': 'unusual_whales'},\n",
       "  {'id': '283102442', 'name': 'Radio Silent', 'username': 'RadioSilentplay'}],\n",
       " 'meta': {'result_count': 22}}"
      ]
     },
     "execution_count": 4,
     "metadata": {},
     "output_type": "execute_result"
    }
   ],
   "source": [
    "client.get_users_following(id = '1503895260006522886')"
   ]
  },
  {
   "cell_type": "code",
   "execution_count": 5,
   "id": "4de131e3-f52c-4783-8942-0532d0f742b1",
   "metadata": {},
   "outputs": [],
   "source": [
    "following_dict = client.get_users_following(id = '1503895260006522886')"
   ]
  },
  {
   "cell_type": "code",
   "execution_count": 7,
   "id": "ceddd20a-7f89-43e1-ad1a-67bc6bf97831",
   "metadata": {},
   "outputs": [
    {
     "name": "stdout",
     "output_type": "stream",
     "text": [
      "InsiderAlerts4U\n",
      "StocksThatRips\n",
      "uzaiiranjum\n",
      "lawmakertrades\n",
      "silberschmelzer\n",
      "SilbergleitJr\n",
      "stockflipp\n",
      "Albert_trades\n",
      "BWcapital_\n",
      "ripster47\n",
      "PJ_Matlock\n",
      "MrZackMorris\n",
      "JessiesPennies\n",
      "Alexs_trades\n",
      "D0peTrades\n",
      "DamonPavlatos\n",
      "LindaRaschke\n",
      "RedDogT3\n",
      "LadeBackk\n",
      "buysellshort\n",
      "unusual_whales\n",
      "RadioSilentplay\n"
     ]
    }
   ],
   "source": [
    "for following in following_dict['data']:\n",
    "    print(following['username'])"
   ]
  },
  {
   "cell_type": "code",
   "execution_count": 8,
   "id": "18e44936-5890-4bda-8345-99b3bcac1b1c",
   "metadata": {},
   "outputs": [],
   "source": [
    "following_list = pd.DataFrame(following_dict['data'])"
   ]
  },
  {
   "cell_type": "code",
   "execution_count": 9,
   "id": "735ea38a-b983-4679-bb05-988c414ee5b0",
   "metadata": {},
   "outputs": [],
   "source": [
    "following_list.drop(columns = ['id', 'name'], inplace = True)"
   ]
  },
  {
   "cell_type": "code",
   "execution_count": 10,
   "id": "b2c80f84-6ce2-4ee4-bc45-8113ba2916ae",
   "metadata": {},
   "outputs": [
    {
     "data": {
      "text/plain": [
       "0     None\n",
       "1     None\n",
       "2     None\n",
       "3     None\n",
       "4     None\n",
       "5     None\n",
       "6     None\n",
       "7     None\n",
       "8     None\n",
       "9     None\n",
       "10    None\n",
       "11    None\n",
       "12    None\n",
       "13    None\n",
       "14    None\n",
       "15    None\n",
       "16    None\n",
       "17    None\n",
       "18    None\n",
       "19    None\n",
       "20    None\n",
       "21    None\n",
       "Name: username, dtype: object"
      ]
     },
     "execution_count": 10,
     "metadata": {},
     "output_type": "execute_result"
    }
   ],
   "source": [
    "rule = \"\"\n",
    "def con(item):\n",
    "    global rule\n",
    "    rule = rule + \"from: \"+ item + \" OR \"\n",
    "\n",
    "following_list['username'].apply(con)"
   ]
  },
  {
   "cell_type": "code",
   "execution_count": 11,
   "id": "2afa2c41-1b21-4d70-b200-e2e80ac4fade",
   "metadata": {},
   "outputs": [
    {
     "name": "stdout",
     "output_type": "stream",
     "text": [
      "from: InsiderAlerts4U OR from: StocksThatRips OR from: uzaiiranjum OR from: lawmakertrades OR from: silberschmelzer OR from: SilbergleitJr OR from: stockflipp OR from: Albert_trades OR from: BWcapital_ OR from: ripster47 OR from: PJ_Matlock OR from: MrZackMorris OR from: JessiesPennies OR from: Alexs_trades OR from: D0peTrades OR from: DamonPavlatos OR from: LindaRaschke OR from: RedDogT3 OR from: LadeBackk OR from: buysellshort OR from: unusual_whales OR from: RadioSilentplay OR \n"
     ]
    }
   ],
   "source": [
    "print(rule)"
   ]
  },
  {
   "cell_type": "code",
   "execution_count": null,
   "id": "2d69355a-04b7-4164-aa3e-aee0d1150ca4",
   "metadata": {},
   "outputs": [],
   "source": []
  }
 ],
 "metadata": {
  "kernelspec": {
   "display_name": "Python 3 (ipykernel)",
   "language": "python",
   "name": "python3"
  },
  "language_info": {
   "codemirror_mode": {
    "name": "ipython",
    "version": 3
   },
   "file_extension": ".py",
   "mimetype": "text/x-python",
   "name": "python",
   "nbconvert_exporter": "python",
   "pygments_lexer": "ipython3",
   "version": "3.8.8"
  }
 },
 "nbformat": 4,
 "nbformat_minor": 5
}
