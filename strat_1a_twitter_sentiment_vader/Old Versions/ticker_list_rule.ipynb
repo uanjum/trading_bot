{
 "cells": [
  {
   "cell_type": "code",
   "execution_count": 2,
   "id": "935865c4-dbd5-41a0-8042-cfc45764e391",
   "metadata": {},
   "outputs": [],
   "source": [
    "import pandas as pd"
   ]
  },
  {
   "cell_type": "code",
   "execution_count": 24,
   "id": "ec0332ad-8987-41f4-91dd-d3fae877d620",
   "metadata": {},
   "outputs": [],
   "source": [
    "index = pd.read_csv('tsx_index.csv')"
   ]
  },
  {
   "cell_type": "code",
   "execution_count": 25,
   "id": "931310a7-1994-4c0a-8535-8dd77cb9b56e",
   "metadata": {},
   "outputs": [
    {
     "name": "stdout",
     "output_type": "stream",
     "text": [
      "    ticker\n",
      "0       RY\n",
      "1       TD\n",
      "2     BAMA\n",
      "3      BNS\n",
      "4      CNR\n",
      "..     ...\n",
      "233    GTE\n",
      "234    AIM\n",
      "235    SCL\n",
      "236    LUC\n",
      "237    ESI\n",
      "\n",
      "[238 rows x 1 columns]\n"
     ]
    }
   ],
   "source": [
    "print(index)"
   ]
  },
  {
   "cell_type": "code",
   "execution_count": 26,
   "id": "67b4dfda-e324-4b7a-833b-6cead34d4380",
   "metadata": {},
   "outputs": [
    {
     "data": {
      "text/plain": [
       "str"
      ]
     },
     "execution_count": 26,
     "metadata": {},
     "output_type": "execute_result"
    }
   ],
   "source": [
    "type(index['ticker'][1])"
   ]
  },
  {
   "cell_type": "code",
   "execution_count": 45,
   "id": "5f3e4352-61a2-4d52-b2b5-53ffadb282f9",
   "metadata": {},
   "outputs": [
    {
     "name": "stdout",
     "output_type": "stream",
     "text": [
      "\"RY\" OR \"TD\" OR \"BAMA\" OR \"BNS\" OR \"CNR\" OR \"ENB\" OR \"SHOP\" OR \"BMO\" OR \"TRI\" OR \"NTR\" OR \"CM\" OR \"CNQ\" OR \"CP\" OR \"BCE\" OR \"TRP\" OR \"CSU\" OR \"MFC\" OR \"SU\" OR \"WCN\" OR \"ABX\" OR \"SLF\" OR \"T\" OR \"L\" OR \"GWO\" OR \"BIP-U\" OR \"FNV\" OR \"IMO\" OR \"CVE\" OR \"MG\" OR \"IFC\" OR \"FTS\" OR \"TCKB\" OR \"WPM\" OR \"POW\" OR \"GIBA\" OR \"QSR\" OR \"RCIB\" OR \"WN\" OR \"WSP\" OR \"PPL\" OR \"FM\" OR \"H\" OR \"DOL\" OR \"SJRB\" OR \"MRU\" OR \"EMA\" OR \"AEM\" OR \"FFHU\" OR \"OTC\" OR \"TOU\" OR \"IVN\" OR \"VRX\" OR \"WFT\" OR \"AQN\" OR \"TFII\" OR \"BEP-U\" OR \n"
     ]
    }
   ],
   "source": [
    "rule = \"\"\n",
    "\n",
    "def combine(item):\n",
    "    global rule\n",
    "    rule = rule + \"\\\"\" + item + \"\\\"\" + \" OR \" \n",
    "\n",
    "index['ticker'][0:56].apply(combine)\n",
    "print(rule)"
   ]
  },
  {
   "cell_type": "code",
   "execution_count": null,
   "id": "b18e6a68-0f2d-4fb8-994c-6826d55bb6aa",
   "metadata": {},
   "outputs": [],
   "source": []
  }
 ],
 "metadata": {
  "kernelspec": {
   "display_name": "Python 3 (ipykernel)",
   "language": "python",
   "name": "python3"
  },
  "language_info": {
   "codemirror_mode": {
    "name": "ipython",
    "version": 3
   },
   "file_extension": ".py",
   "mimetype": "text/x-python",
   "name": "python",
   "nbconvert_exporter": "python",
   "pygments_lexer": "ipython3",
   "version": "3.8.8"
  }
 },
 "nbformat": 4,
 "nbformat_minor": 5
}
