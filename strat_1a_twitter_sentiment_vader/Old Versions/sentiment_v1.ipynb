{
 "cells": [
  {
   "cell_type": "code",
   "execution_count": 36,
   "id": "dfd43ec7-bd48-4dbb-b890-0f22e1127127",
   "metadata": {},
   "outputs": [],
   "source": [
    "#unless we have advanced researchers access, this library cannot filter tweets for cashtags and \"$\" without which is impossible to filter for stock tweets\n",
    "#applied for the advanced access May 17th, 2022 and waiting for approval\n",
    "#will be looking into twitter scrapers twint for python in version 2\n",
    "\n",
    "import tweepy"
   ]
  },
  {
   "cell_type": "code",
   "execution_count": null,
   "id": "48922944-23e1-46bb-a6db-4c2f604e317b",
   "metadata": {},
   "outputs": [],
   "source": [
    "bearer_token = 'AAAAAAAAAAAAAAAAAAAAAGGybAEAAAAA8cTwz7IZgDFp0lRrikv5tWQmEKg%3D9LWClxu4RzHMw6fxIeJ88EhdQD8IR6LHohZIaKjIOtslYE7moI'"
   ]
  },
  {
   "cell_type": "code",
   "execution_count": null,
   "id": "63f1025d-dd15-49d1-a9a7-82c81671074f",
   "metadata": {},
   "outputs": [],
   "source": [
    "my_stream = tweepy.StreamingClient(bearer_token = bearer_token)"
   ]
  },
  {
   "cell_type": "code",
   "execution_count": null,
   "id": "70c801ee-6f03-40df-bff2-f4d46fc2086f",
   "metadata": {},
   "outputs": [],
   "source": [
    "class StreamListener (tweepy.StreamingClient):\n",
    "    def on_tweet(self, tweet):\n",
    "        print(tweet.text)"
   ]
  },
  {
   "cell_type": "code",
   "execution_count": null,
   "id": "be0ab4c8-210b-4901-9621-9c1e8636e383",
   "metadata": {},
   "outputs": [],
   "source": [
    "listener = StreamListener(bearer_token, return_type = dict)"
   ]
  },
  {
   "cell_type": "code",
   "execution_count": null,
   "id": "92ada365-6894-4709-87bf-fc43affbf717",
   "metadata": {},
   "outputs": [],
   "source": [
    "listener.get_rules()"
   ]
  },
  {
   "cell_type": "code",
   "execution_count": null,
   "id": "d2c04124-4e16-4a64-8de0-1d91cccedbbc",
   "metadata": {},
   "outputs": [],
   "source": [
    "listener.delete_rules(ids='1526655723207200768')"
   ]
  },
  {
   "cell_type": "code",
   "execution_count": null,
   "id": "8a88d4bb-0afe-44c2-bc0f-dd73b9a65b5b",
   "metadata": {},
   "outputs": [],
   "source": [
    "#listener.add_rules(tweepy.StreamRule('$RY OR $TD OR $BAMA OR $BNS OR $CNR OR $ENB OR $SHOP OR $BMO OR $TRI OR $NTR OR $CM OR $CNQ OR $CP OR $BCE OR $TRP OR $CSU OR $MFC OR $SU OR $WCN OR $ABX OR $SLF OR $T OR $L OR $GWO OR $BIP-U OR $FNV OR $IMO OR $CVE OR $MG OR $IFC OR $FTS OR $TCKB OR $WPM OR $POW OR $GIBA OR $QSR OR $RCIB OR $WN OR $WSP OR $PPL OR $FM OR $H OR $DOL OR $SJRB OR $MRU OR $EMA OR $AEM OR $FFHU OR $OTC OR $TOU OR $IVN OR $VRX OR $WFT OR $AQN OR $TFII OR $BEP-U OR $SAP OR $CCLB OR $ECA'))"
   ]
  },
  {
   "cell_type": "code",
   "execution_count": null,
   "id": "927c887d-cadb-4178-b662-80484129b5b6",
   "metadata": {},
   "outputs": [],
   "source": [
    "#listener.add_rules(tweepy.StreamRule('$CCO OR $IGM OR $FSV OR $GIL OR $CTCA OR $CAR-U OR $EMPA OR $CAE OR $TIH OR $DOO OR $K OR $DSG OR $RBA OR $ARX OR $NPI OR $EDV OR $STN OR $BBU-U OR $IAG OR $ALA OR $AC OR $ONEX OR $PAAS OR $REI-U OR $LUN OR $CU OR $CIG OR $GRT-U OR $BB OR $KEY OR $SSRM OR $AP-U OR $EFN OR $SNC OR $CIX OR $PKI OR $TCN OR $CHP-U OR $BTO OR $FTT OR $YRI OR $ATZ OR $LNR OR $RNW OR $PBH OR $WCP OR $ATA OR $SRU-U OR $QBRB OR $CCA OR $CPX OR $HR-U OR $TOY OR $KXS OR $ACOX OR $BLDP OR $TRQ')) "
   ]
  },
  {
   "cell_type": "code",
   "execution_count": null,
   "id": "ceec4ad9-115d-4073-ae64-6b07f9c13d45",
   "metadata": {},
   "outputs": [],
   "source": [
    "#listener.add_rules(tweepy.StreamRule('$BLX OR $FCR OR $LSPD OR $SMU-U OR $CFP OR $DIR-U OR $CPG OR $MX OR $TA OR $AGI OR $BCB OR $MEG OR $MFI OR $INE OR $BBDB OR $FR OR $NXE OR $ERF OR $BYD-U OR $POU OR $GEI OR $WEED OR $NWH-U OR $CWB OR $TRLY OR $GOOS OR $EQX OR $MAXR OR $PSK OR $CG OR $NG OR $CSH-U OR $PXT OR $WPK OR $RCH OR $CJT OR $LUG OR $VET OR $KMP-U OR $EQB OR $BEI-U OR $SJ OR $OR OR $LIF OR $IFP OR $HBM OR $IIP-U OR $SPB OR $WDO OR $MAG OR $BTE OR $ENGH OR $AIF OR $ELD OR $RUS OR $HCG OR $SSL'))"
   ]
  },
  {
   "cell_type": "code",
   "execution_count": null,
   "id": "ed12bc03-01db-416b-88ad-2a295a066e65",
   "metadata": {},
   "outputs": [],
   "source": [
    "#listener.add_rules(tweepy.StreamRule('$IMG OR $CRT-U OR $SEA OR $SIL OR $CRR-U OR $CLS OR $LB OR $BIR OR $FRU OR $WTE OR $ERO OR $NWC OR $NVA OR $PEY OR $SES OR $ITP OR $EIF OR $AX-U OR $OGC OR $DPM OR $CRON OR $TCLA OR $ECN OR $JWEL OR $FVI OR $AAV OR $MSI OR $CAS OR $NGD OR $D-U OR $UNS OR $NFI OR $MTL OR $TXG OR $ZZZ OR $BAD OR $ARE OR $SIA OR $CJRB OR $PSI OR $MRE OR $SVM OR $KEL OR $ACB OR $CGX OR $SW OR $WEF OR $CHE-U OR $TCW OR $CHR OR $EFX OR $GUD OR $EXE OR $PD OR $DIIB OR $OGI OR $CEU OR $CR')) "
   ]
  },
  {
   "cell_type": "code",
   "execution_count": null,
   "id": "ded3f1ec-29b3-4515-b416-6927120fd05a",
   "metadata": {},
   "outputs": [],
   "source": [
    "#listener.add_rules(tweepy.StreamRule('$CMG OR $REAL OR $GTE OR $AIM OR $SCL OR $LUC OR $ESI'))"
   ]
  },
  {
   "cell_type": "code",
   "execution_count": null,
   "id": "6d458cb4-592f-4a37-b0ca-bba6e0934261",
   "metadata": {},
   "outputs": [],
   "source": [
    "listener.filter()"
   ]
  }
 ],
 "metadata": {
  "kernelspec": {
   "display_name": "Python 3 (ipykernel)",
   "language": "python",
   "name": "python3"
  },
  "language_info": {
   "codemirror_mode": {
    "name": "ipython",
    "version": 3
   },
   "file_extension": ".py",
   "mimetype": "text/x-python",
   "name": "python",
   "nbconvert_exporter": "python",
   "pygments_lexer": "ipython3",
   "version": "3.8.8"
  }
 },
 "nbformat": 4,
 "nbformat_minor": 5
}
