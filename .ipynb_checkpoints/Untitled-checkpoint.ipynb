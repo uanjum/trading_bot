{
 "cells": [
  {
   "cell_type": "code",
   "execution_count": 6,
   "id": "c63cd47b-4da8-4660-ae77-3a8e362b97e6",
   "metadata": {},
   "outputs": [],
   "source": [
    "import pandas as pd\n",
    "import smtplib\n",
    "from email.message import EmailMessage"
   ]
  },
  {
   "cell_type": "code",
   "execution_count": 2,
   "id": "9889e41a-e6b4-49cb-be8b-0f3af7f1f6b8",
   "metadata": {},
   "outputs": [],
   "source": [
    "cum_capital = pd.read_csv('cumulative_capital.csv')\n"
   ]
  },
  {
   "cell_type": "code",
   "execution_count": 5,
   "id": "39013508-84ef-40f1-ac41-c9ddad13d26b",
   "metadata": {},
   "outputs": [
    {
     "data": {
      "text/html": [
       "<div>\n",
       "<style scoped>\n",
       "    .dataframe tbody tr th:only-of-type {\n",
       "        vertical-align: middle;\n",
       "    }\n",
       "\n",
       "    .dataframe tbody tr th {\n",
       "        vertical-align: top;\n",
       "    }\n",
       "\n",
       "    .dataframe thead th {\n",
       "        text-align: right;\n",
       "    }\n",
       "</style>\n",
       "<table border=\"1\" class=\"dataframe\">\n",
       "  <thead>\n",
       "    <tr style=\"text-align: right;\">\n",
       "      <th></th>\n",
       "      <th>25/08/2022</th>\n",
       "      <th>26/08/2022</th>\n",
       "    </tr>\n",
       "    <tr>\n",
       "      <th>strategy</th>\n",
       "      <th></th>\n",
       "      <th></th>\n",
       "    </tr>\n",
       "  </thead>\n",
       "  <tbody>\n",
       "    <tr>\n",
       "      <th>strat_1a_twitter_sentiment_vader</th>\n",
       "      <td>10000</td>\n",
       "      <td>9742.262919</td>\n",
       "    </tr>\n",
       "    <tr>\n",
       "      <th>strat_1b_twitter_sentiment_flair</th>\n",
       "      <td>10000</td>\n",
       "      <td>NaN</td>\n",
       "    </tr>\n",
       "    <tr>\n",
       "      <th>strat_2a_finviz_rel_vol_change</th>\n",
       "      <td>10000</td>\n",
       "      <td>8949.422224</td>\n",
       "    </tr>\n",
       "    <tr>\n",
       "      <th>strat_2a_finviz_rel_vol_market_cap</th>\n",
       "      <td>10000</td>\n",
       "      <td>9868.102595</td>\n",
       "    </tr>\n",
       "    <tr>\n",
       "      <th>strat_2a_finviz_rel_vol_sorted_change_min_market_cap</th>\n",
       "      <td>10000</td>\n",
       "      <td>10137.755951</td>\n",
       "    </tr>\n",
       "    <tr>\n",
       "      <th>strat_2b_barchart_rel_vol_change</th>\n",
       "      <td>10000</td>\n",
       "      <td>NaN</td>\n",
       "    </tr>\n",
       "    <tr>\n",
       "      <th>strat_2b_barchart_rel_vol_market_cap</th>\n",
       "      <td>10000</td>\n",
       "      <td>10131.330367</td>\n",
       "    </tr>\n",
       "    <tr>\n",
       "      <th>strat_2c_barchart_mid_day_rel_vol_change</th>\n",
       "      <td>10000</td>\n",
       "      <td>9949.842881</td>\n",
       "    </tr>\n",
       "    <tr>\n",
       "      <th>strat_2c_barchart_mid_day_rel_vol_market_cap</th>\n",
       "      <td>10000</td>\n",
       "      <td>10016.510311</td>\n",
       "    </tr>\n",
       "    <tr>\n",
       "      <th>benchmark</th>\n",
       "      <td>10000</td>\n",
       "      <td>NaN</td>\n",
       "    </tr>\n",
       "  </tbody>\n",
       "</table>\n",
       "</div>"
      ],
      "text/plain": [
       "                                                    25/08/2022    26/08/2022\n",
       "strategy                                                                    \n",
       "strat_1a_twitter_sentiment_vader                         10000   9742.262919\n",
       "strat_1b_twitter_sentiment_flair                         10000           NaN\n",
       "strat_2a_finviz_rel_vol_change                           10000   8949.422224\n",
       "strat_2a_finviz_rel_vol_market_cap                       10000   9868.102595\n",
       "strat_2a_finviz_rel_vol_sorted_change_min_marke...       10000  10137.755951\n",
       "strat_2b_barchart_rel_vol_change                         10000           NaN\n",
       "strat_2b_barchart_rel_vol_market_cap                     10000  10131.330367\n",
       "strat_2c_barchart_mid_day_rel_vol_change                 10000   9949.842881\n",
       "strat_2c_barchart_mid_day_rel_vol_market_cap             10000  10016.510311\n",
       "benchmark                                                10000           NaN"
      ]
     },
     "execution_count": 5,
     "metadata": {},
     "output_type": "execute_result"
    }
   ],
   "source": [
    "cum_capital.set_index('strategy')"
   ]
  },
  {
   "cell_type": "code",
   "execution_count": 7,
   "id": "f494dd3a-044a-4713-af35-851eec49cc6d",
   "metadata": {},
   "outputs": [],
   "source": [
    "msg = EmailMessage()"
   ]
  },
  {
   "cell_type": "code",
   "execution_count": 8,
   "id": "66ff9101-1813-43ed-af76-2ef2f1313c25",
   "metadata": {},
   "outputs": [
    {
     "ename": "KeyError",
     "evalue": "'pandas.core.frame.DataFrame'",
     "output_type": "error",
     "traceback": [
      "\u001b[1;31m---------------------------------------------------------------------------\u001b[0m",
      "\u001b[1;31mKeyError\u001b[0m                                  Traceback (most recent call last)",
      "Input \u001b[1;32mIn [8]\u001b[0m, in \u001b[0;36m<cell line: 1>\u001b[1;34m()\u001b[0m\n\u001b[1;32m----> 1\u001b[0m \u001b[43mmsg\u001b[49m\u001b[38;5;241;43m.\u001b[39;49m\u001b[43mset_content\u001b[49m\u001b[43m(\u001b[49m\u001b[43mcum_capital\u001b[49m\u001b[43m)\u001b[49m\n\u001b[0;32m      2\u001b[0m msg[\u001b[38;5;124m'\u001b[39m\u001b[38;5;124mSubject\u001b[39m\u001b[38;5;124m'\u001b[39m] \u001b[38;5;241m=\u001b[39m \u001b[38;5;124m'\u001b[39m\u001b[38;5;124mUpdate from 08/26/2022\u001b[39m\u001b[38;5;124m'\u001b[39m\n\u001b[0;32m      3\u001b[0m msg[\u001b[38;5;124m'\u001b[39m\u001b[38;5;124mTo\u001b[39m\u001b[38;5;124m'\u001b[39m] \u001b[38;5;241m=\u001b[39m \u001b[38;5;124m'\u001b[39m\u001b[38;5;124mcomputertrader@gmail.com\u001b[39m\u001b[38;5;124m'\u001b[39m\n",
      "File \u001b[1;32mc:\\users\\uzair\\appdata\\local\\programs\\python\\python38\\lib\\email\\message.py:1171\u001b[0m, in \u001b[0;36mEmailMessage.set_content\u001b[1;34m(self, *args, **kw)\u001b[0m\n\u001b[0;32m   1170\u001b[0m \u001b[38;5;28;01mdef\u001b[39;00m \u001b[38;5;21mset_content\u001b[39m(\u001b[38;5;28mself\u001b[39m, \u001b[38;5;241m*\u001b[39margs, \u001b[38;5;241m*\u001b[39m\u001b[38;5;241m*\u001b[39mkw):\n\u001b[1;32m-> 1171\u001b[0m     \u001b[38;5;28;43msuper\u001b[39;49m\u001b[43m(\u001b[49m\u001b[43m)\u001b[49m\u001b[38;5;241;43m.\u001b[39;49m\u001b[43mset_content\u001b[49m\u001b[43m(\u001b[49m\u001b[38;5;241;43m*\u001b[39;49m\u001b[43margs\u001b[49m\u001b[43m,\u001b[49m\u001b[43m \u001b[49m\u001b[38;5;241;43m*\u001b[39;49m\u001b[38;5;241;43m*\u001b[39;49m\u001b[43mkw\u001b[49m\u001b[43m)\u001b[49m\n\u001b[0;32m   1172\u001b[0m     \u001b[38;5;28;01mif\u001b[39;00m \u001b[38;5;124m'\u001b[39m\u001b[38;5;124mMIME-Version\u001b[39m\u001b[38;5;124m'\u001b[39m \u001b[38;5;129;01mnot\u001b[39;00m \u001b[38;5;129;01min\u001b[39;00m \u001b[38;5;28mself\u001b[39m:\n\u001b[0;32m   1173\u001b[0m         \u001b[38;5;28mself\u001b[39m[\u001b[38;5;124m'\u001b[39m\u001b[38;5;124mMIME-Version\u001b[39m\u001b[38;5;124m'\u001b[39m] \u001b[38;5;241m=\u001b[39m \u001b[38;5;124m'\u001b[39m\u001b[38;5;124m1.0\u001b[39m\u001b[38;5;124m'\u001b[39m\n",
      "File \u001b[1;32mc:\\users\\uzair\\appdata\\local\\programs\\python\\python38\\lib\\email\\message.py:1101\u001b[0m, in \u001b[0;36mMIMEPart.set_content\u001b[1;34m(self, content_manager, *args, **kw)\u001b[0m\n\u001b[0;32m   1099\u001b[0m \u001b[38;5;28;01mif\u001b[39;00m content_manager \u001b[38;5;129;01mis\u001b[39;00m \u001b[38;5;28;01mNone\u001b[39;00m:\n\u001b[0;32m   1100\u001b[0m     content_manager \u001b[38;5;241m=\u001b[39m \u001b[38;5;28mself\u001b[39m\u001b[38;5;241m.\u001b[39mpolicy\u001b[38;5;241m.\u001b[39mcontent_manager\n\u001b[1;32m-> 1101\u001b[0m \u001b[43mcontent_manager\u001b[49m\u001b[38;5;241;43m.\u001b[39;49m\u001b[43mset_content\u001b[49m\u001b[43m(\u001b[49m\u001b[38;5;28;43mself\u001b[39;49m\u001b[43m,\u001b[49m\u001b[43m \u001b[49m\u001b[38;5;241;43m*\u001b[39;49m\u001b[43margs\u001b[49m\u001b[43m,\u001b[49m\u001b[43m \u001b[49m\u001b[38;5;241;43m*\u001b[39;49m\u001b[38;5;241;43m*\u001b[39;49m\u001b[43mkw\u001b[49m\u001b[43m)\u001b[49m\n",
      "File \u001b[1;32mc:\\users\\uzair\\appdata\\local\\programs\\python\\python38\\lib\\email\\contentmanager.py:35\u001b[0m, in \u001b[0;36mContentManager.set_content\u001b[1;34m(self, msg, obj, *args, **kw)\u001b[0m\n\u001b[0;32m     31\u001b[0m \u001b[38;5;28;01mif\u001b[39;00m msg\u001b[38;5;241m.\u001b[39mget_content_maintype() \u001b[38;5;241m==\u001b[39m \u001b[38;5;124m'\u001b[39m\u001b[38;5;124mmultipart\u001b[39m\u001b[38;5;124m'\u001b[39m:\n\u001b[0;32m     32\u001b[0m     \u001b[38;5;66;03m# XXX: is this error a good idea or not?  We can remove it later,\u001b[39;00m\n\u001b[0;32m     33\u001b[0m     \u001b[38;5;66;03m# but we can't add it later, so do it for now.\u001b[39;00m\n\u001b[0;32m     34\u001b[0m     \u001b[38;5;28;01mraise\u001b[39;00m \u001b[38;5;167;01mTypeError\u001b[39;00m(\u001b[38;5;124m\"\u001b[39m\u001b[38;5;124mset_content not valid on multipart\u001b[39m\u001b[38;5;124m\"\u001b[39m)\n\u001b[1;32m---> 35\u001b[0m handler \u001b[38;5;241m=\u001b[39m \u001b[38;5;28;43mself\u001b[39;49m\u001b[38;5;241;43m.\u001b[39;49m\u001b[43m_find_set_handler\u001b[49m\u001b[43m(\u001b[49m\u001b[43mmsg\u001b[49m\u001b[43m,\u001b[49m\u001b[43m \u001b[49m\u001b[43mobj\u001b[49m\u001b[43m)\u001b[49m\n\u001b[0;32m     36\u001b[0m msg\u001b[38;5;241m.\u001b[39mclear_content()\n\u001b[0;32m     37\u001b[0m handler(msg, obj, \u001b[38;5;241m*\u001b[39margs, \u001b[38;5;241m*\u001b[39m\u001b[38;5;241m*\u001b[39mkw)\n",
      "File \u001b[1;32mc:\\users\\uzair\\appdata\\local\\programs\\python\\python38\\lib\\email\\contentmanager.py:58\u001b[0m, in \u001b[0;36mContentManager._find_set_handler\u001b[1;34m(self, msg, obj)\u001b[0m\n\u001b[0;32m     56\u001b[0m \u001b[38;5;28;01mif\u001b[39;00m \u001b[38;5;28;01mNone\u001b[39;00m \u001b[38;5;129;01min\u001b[39;00m \u001b[38;5;28mself\u001b[39m\u001b[38;5;241m.\u001b[39mset_handlers:\n\u001b[0;32m     57\u001b[0m     \u001b[38;5;28;01mreturn\u001b[39;00m \u001b[38;5;28mself\u001b[39m\u001b[38;5;241m.\u001b[39mset_handlers[\u001b[38;5;28;01mNone\u001b[39;00m]\n\u001b[1;32m---> 58\u001b[0m \u001b[38;5;28;01mraise\u001b[39;00m \u001b[38;5;167;01mKeyError\u001b[39;00m(full_path_for_error)\n",
      "\u001b[1;31mKeyError\u001b[0m: 'pandas.core.frame.DataFrame'"
     ]
    }
   ],
   "source": [
    "msg.set_content('this is a test')\n",
    "msg['Subject'] = 'Update from 08/26/2022'\n",
    "msg['To'] = 'computertrader@gmail.com'"
   ]
  },
  {
   "cell_type": "code",
   "execution_count": null,
   "id": "1a8ec39e-0b0b-4f78-a512-31764da4f5a5",
   "metadata": {},
   "outputs": [],
   "source": []
  }
 ],
 "metadata": {
  "kernelspec": {
   "display_name": "Python 3 (ipykernel)",
   "language": "python",
   "name": "python3"
  },
  "language_info": {
   "codemirror_mode": {
    "name": "ipython",
    "version": 3
   },
   "file_extension": ".py",
   "mimetype": "text/x-python",
   "name": "python",
   "nbconvert_exporter": "python",
   "pygments_lexer": "ipython3",
   "version": "3.8.8"
  }
 },
 "nbformat": 4,
 "nbformat_minor": 5
}
